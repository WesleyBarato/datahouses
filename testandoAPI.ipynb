{
 "cells": [
  {
   "cell_type": "code",
   "execution_count": 46,
   "id": "83432fe2-cc7a-4d78-b700-8350edae0af8",
   "metadata": {},
   "outputs": [],
   "source": [
    "import requests as r\n",
    "import json\n",
    "import pandas as pd\n",
    "import seaborn as sns\n",
    "import matplotlib.pyplot as plt\n"
   ]
  },
  {
   "cell_type": "code",
   "execution_count": 31,
   "id": "bf781f0b-3d11-4138-a365-b1c34a70a44a",
   "metadata": {},
   "outputs": [],
   "source": [
    "#puxando dados API\n",
    "url = 'https://dadosabertos.camara.leg.br/api/v2/deputados'\n",
    "parameters = {'id': 204554} #aqui os parametros escolhidos para visualizar só um registro\n",
    "response = r.request( 'GET', url)\n",
    "objetos = json.loads(response.text) #loads serve para obter os dados em um formato dicionario\n",
    "dados = objetos['dados']"
   ]
  },
  {
   "cell_type": "code",
   "execution_count": 15,
   "id": "15ada0d7-50ec-4d58-8c5d-1cf90656f5cb",
   "metadata": {},
   "outputs": [
    {
     "data": {
      "text/plain": [
       "[{'id': 204554,\n",
       "  'uri': 'https://dadosabertos.camara.leg.br/api/v2/deputados/204554',\n",
       "  'nome': 'Abílio Santana',\n",
       "  'siglaPartido': 'PSC',\n",
       "  'uriPartido': 'https://dadosabertos.camara.leg.br/api/v2/partidos/36833',\n",
       "  'siglaUf': 'BA',\n",
       "  'idLegislatura': 56,\n",
       "  'urlFoto': 'https://www.camara.leg.br/internet/deputado/bandep/204554.jpg',\n",
       "  'email': None}]"
      ]
     },
     "execution_count": 15,
     "metadata": {},
     "output_type": "execute_result"
    }
   ],
   "source": [
    "dados"
   ]
  },
  {
   "cell_type": "code",
   "execution_count": 34,
   "id": "cc0e30c0-0f04-45e0-81b7-fcdfd9a36bb8",
   "metadata": {},
   "outputs": [
    {
     "data": {
      "text/html": [
       "<div>\n",
       "<style scoped>\n",
       "    .dataframe tbody tr th:only-of-type {\n",
       "        vertical-align: middle;\n",
       "    }\n",
       "\n",
       "    .dataframe tbody tr th {\n",
       "        vertical-align: top;\n",
       "    }\n",
       "\n",
       "    .dataframe thead th {\n",
       "        text-align: right;\n",
       "    }\n",
       "</style>\n",
       "<table border=\"1\" class=\"dataframe\">\n",
       "  <thead>\n",
       "    <tr style=\"text-align: right;\">\n",
       "      <th></th>\n",
       "      <th>id</th>\n",
       "      <th>uri</th>\n",
       "      <th>nome</th>\n",
       "      <th>siglaPartido</th>\n",
       "      <th>uriPartido</th>\n",
       "      <th>siglaUf</th>\n",
       "      <th>idLegislatura</th>\n",
       "      <th>urlFoto</th>\n",
       "      <th>email</th>\n",
       "    </tr>\n",
       "  </thead>\n",
       "  <tbody>\n",
       "    <tr>\n",
       "      <th>0</th>\n",
       "      <td>204554</td>\n",
       "      <td>https://dadosabertos.camara.leg.br/api/v2/depu...</td>\n",
       "      <td>Abílio Santana</td>\n",
       "      <td>PSC</td>\n",
       "      <td>https://dadosabertos.camara.leg.br/api/v2/part...</td>\n",
       "      <td>BA</td>\n",
       "      <td>56</td>\n",
       "      <td>https://www.camara.leg.br/internet/deputado/ba...</td>\n",
       "      <td>None</td>\n",
       "    </tr>\n",
       "    <tr>\n",
       "      <th>1</th>\n",
       "      <td>204521</td>\n",
       "      <td>https://dadosabertos.camara.leg.br/api/v2/depu...</td>\n",
       "      <td>Abou Anni</td>\n",
       "      <td>UNIÃO</td>\n",
       "      <td>https://dadosabertos.camara.leg.br/api/v2/part...</td>\n",
       "      <td>SP</td>\n",
       "      <td>56</td>\n",
       "      <td>https://www.camara.leg.br/internet/deputado/ba...</td>\n",
       "      <td>None</td>\n",
       "    </tr>\n",
       "    <tr>\n",
       "      <th>2</th>\n",
       "      <td>204379</td>\n",
       "      <td>https://dadosabertos.camara.leg.br/api/v2/depu...</td>\n",
       "      <td>Acácio Favacho</td>\n",
       "      <td>MDB</td>\n",
       "      <td>https://dadosabertos.camara.leg.br/api/v2/part...</td>\n",
       "      <td>AP</td>\n",
       "      <td>56</td>\n",
       "      <td>https://www.camara.leg.br/internet/deputado/ba...</td>\n",
       "      <td>None</td>\n",
       "    </tr>\n",
       "    <tr>\n",
       "      <th>3</th>\n",
       "      <td>204560</td>\n",
       "      <td>https://dadosabertos.camara.leg.br/api/v2/depu...</td>\n",
       "      <td>Adolfo Viana</td>\n",
       "      <td>PSDB</td>\n",
       "      <td>https://dadosabertos.camara.leg.br/api/v2/part...</td>\n",
       "      <td>BA</td>\n",
       "      <td>56</td>\n",
       "      <td>https://www.camara.leg.br/internet/deputado/ba...</td>\n",
       "      <td>None</td>\n",
       "    </tr>\n",
       "    <tr>\n",
       "      <th>4</th>\n",
       "      <td>204528</td>\n",
       "      <td>https://dadosabertos.camara.leg.br/api/v2/depu...</td>\n",
       "      <td>Adriana Ventura</td>\n",
       "      <td>NOVO</td>\n",
       "      <td>https://dadosabertos.camara.leg.br/api/v2/part...</td>\n",
       "      <td>SP</td>\n",
       "      <td>56</td>\n",
       "      <td>https://www.camara.leg.br/internet/deputado/ba...</td>\n",
       "      <td>None</td>\n",
       "    </tr>\n",
       "  </tbody>\n",
       "</table>\n",
       "</div>"
      ],
      "text/plain": [
       "       id                                                uri             nome  \\\n",
       "0  204554  https://dadosabertos.camara.leg.br/api/v2/depu...   Abílio Santana   \n",
       "1  204521  https://dadosabertos.camara.leg.br/api/v2/depu...        Abou Anni   \n",
       "2  204379  https://dadosabertos.camara.leg.br/api/v2/depu...   Acácio Favacho   \n",
       "3  204560  https://dadosabertos.camara.leg.br/api/v2/depu...     Adolfo Viana   \n",
       "4  204528  https://dadosabertos.camara.leg.br/api/v2/depu...  Adriana Ventura   \n",
       "\n",
       "  siglaPartido                                         uriPartido siglaUf  \\\n",
       "0          PSC  https://dadosabertos.camara.leg.br/api/v2/part...      BA   \n",
       "1        UNIÃO  https://dadosabertos.camara.leg.br/api/v2/part...      SP   \n",
       "2          MDB  https://dadosabertos.camara.leg.br/api/v2/part...      AP   \n",
       "3         PSDB  https://dadosabertos.camara.leg.br/api/v2/part...      BA   \n",
       "4         NOVO  https://dadosabertos.camara.leg.br/api/v2/part...      SP   \n",
       "\n",
       "   idLegislatura                                            urlFoto email  \n",
       "0             56  https://www.camara.leg.br/internet/deputado/ba...  None  \n",
       "1             56  https://www.camara.leg.br/internet/deputado/ba...  None  \n",
       "2             56  https://www.camara.leg.br/internet/deputado/ba...  None  \n",
       "3             56  https://www.camara.leg.br/internet/deputado/ba...  None  \n",
       "4             56  https://www.camara.leg.br/internet/deputado/ba...  None  "
      ]
     },
     "execution_count": 34,
     "metadata": {},
     "output_type": "execute_result"
    }
   ],
   "source": [
    "#estruturando os dados para um dataframe\n",
    "df = pd.DataFrame(dados)\n",
    "df.head()"
   ]
  },
  {
   "cell_type": "code",
   "execution_count": 43,
   "id": "1e8e456b-7b33-4d91-bb48-e4315773fdfc",
   "metadata": {},
   "outputs": [
    {
     "data": {
      "text/plain": [
       "[]"
      ]
     },
     "execution_count": 43,
     "metadata": {},
     "output_type": "execute_result"
    },
    {
     "data": {
      "image/png": "[encoded data removed]",
      "text/plain": [
       "<Figure size 1500x500 with 1 Axes>"
      ]
     },
     "metadata": {},
     "output_type": "display_data"
    }
   ],
   "source": [
    "#Uma informação importante é a quantidade de deputados pela UF. \n",
    "#Aqui usaremos a função figure do matplotlib para ajustar o tamanho do gráfico. \n",
    "#A função barplot do seaborn para gerar um gráfico de barras. \n",
    "#E a função plot do matplotlib para exibir o gráfico gerado.\n",
    "x = df['siglaUf'].value_counts().index #pega os estados\n",
    "y = df['siglaUf'].value_counts().values #pega quantas vezes os estados aparecem nos registros\n",
    "plt.figure(figsize = (15,5))\n",
    "sns.barplot(x=x, y=y, palette='deep') #atribui as variaveis aos eixos e define as cores\n",
    "plt.plot()"
   ]
  },
  {
   "cell_type": "code",
   "execution_count": 39,
   "id": "281571d8-4c50-408d-876a-0661eb60c6a1",
   "metadata": {},
   "outputs": [
    {
     "data": {
      "text/plain": [
       "Index(['SP', 'MG', 'RJ', 'BA', 'RS', 'PR', 'PE', 'CE', 'MA', 'GO', 'PA', 'SC',\n",
       "       'PB', 'ES', 'PI', 'AL', 'AC', 'DF', 'RO', 'TO', 'MT', 'AM', 'MS', 'RN',\n",
       "       'AP', 'SE', 'RR'],\n",
       "      dtype='object')"
      ]
     },
     "execution_count": 39,
     "metadata": {},
     "output_type": "execute_result"
    }
   ],
   "source": [
    "x"
   ]
  },
  {
   "cell_type": "code",
   "execution_count": 44,
   "id": "da9e54ce-de19-4ffc-a62a-1a82d1f8f2f0",
   "metadata": {},
   "outputs": [
    {
     "data": {
      "text/plain": [
       "[]"
      ]
     },
     "execution_count": 44,
     "metadata": {},
     "output_type": "execute_result"
    },
    {
     "data": {
      "image/png": "[encoded data removed]",
      "text/plain": [
       "<Figure size 1500x500 with 1 Axes>"
      ]
     },
     "metadata": {},
     "output_type": "display_data"
    }
   ],
   "source": [
    "# Análise da quantidade de deputados por Partido\n",
    "x = df['siglaPartido'].value_counts().head(10).values\n",
    "y = df['siglaPartido'].value_counts().head(10).index\n",
    "plt.figure(figsize = (15, 5))\n",
    "sns.barplot(x=x, y=y, palette=\"deep\")\n",
    "plt.plot()"
   ]
  },
  {
   "cell_type": "code",
   "execution_count": null,
   "id": "f77981c7-e308-4e92-8fc0-e3fb1f772f40",
   "metadata": {},
   "outputs": [],
   "source": []
  }
 ],
 "metadata": {
  "kernelspec": {
   "display_name": "Python 3 (ipykernel)",
   "language": "python",
   "name": "python3"
  },
  "language_info": {
   "codemirror_mode": {
    "name": "ipython",
    "version": 3
   },
   "file_extension": ".py",
   "mimetype": "text/x-python",
   "name": "python",
   "nbconvert_exporter": "python",
   "pygments_lexer": "ipython3",
   "version": "3.9.13"
  }
 },
 "nbformat": 4,
 "nbformat_minor": 5
}
